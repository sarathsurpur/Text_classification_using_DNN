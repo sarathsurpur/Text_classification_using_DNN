{
 "cells": [
  {
   "cell_type": "code",
   "execution_count": 0,
   "metadata": {
    "colab": {
     "base_uri": "https://localhost:8080/",
     "height": 121
    },
    "colab_type": "code",
    "id": "F1mpaKTjHqF7",
    "outputId": "a9f43cd7-83b5-4bf2-8c95-a186c8262883"
   },
   "outputs": [
    {
     "name": "stdout",
     "output_type": "stream",
     "text": [
      "Go to this URL in a browser: https://accounts.google.com/o/oauth2/auth?client_id=947318989803-6bn6qk8qdgf4n4g3pfee6491hc0brc4i.apps.googleusercontent.com&redirect_uri=urn%3Aietf%3Awg%3Aoauth%3A2.0%3Aoob&scope=email%20https%3A%2F%2Fwww.googleapis.com%2Fauth%2Fdocs.test%20https%3A%2F%2Fwww.googleapis.com%2Fauth%2Fdrive%20https%3A%2F%2Fwww.googleapis.com%2Fauth%2Fdrive.photos.readonly%20https%3A%2F%2Fwww.googleapis.com%2Fauth%2Fpeopleapi.readonly&response_type=code\n",
      "\n",
      "Enter your authorization code:\n",
      "··········\n",
      "Mounted at /content/drive\n"
     ]
    }
   ],
   "source": [
    "from google.colab import drive\n",
    "drive.mount('/content/drive')"
   ]
  },
  {
   "cell_type": "code",
   "execution_count": 0,
   "metadata": {
    "colab": {},
    "colab_type": "code",
    "id": "teCmJrNuIK6R"
   },
   "outputs": [],
   "source": [
    "import pandas as pd\n",
    "import numpy as np\n",
    "from keras.preprocessing.text import Tokenizer\n",
    "from keras.models import Sequential\n",
    "from keras.layers import Activation, Dense, Dropout\n",
    "from sklearn.preprocessing import LabelBinarizer\n",
    "import sklearn.datasets as skds\n",
    "from pathlib import Path"
   ]
  },
  {
   "cell_type": "code",
   "execution_count": 0,
   "metadata": {
    "colab": {},
    "colab_type": "code",
    "id": "mXs_fQvjIXDd"
   },
   "outputs": [],
   "source": [
    "data = pd.read_csv('/content/drive/My Drive/Text_classification/author_identification_challenge /xtrain_obfuscated.txt', header=None, names=['Text']) "
   ]
  },
  {
   "cell_type": "code",
   "execution_count": 0,
   "metadata": {
    "colab": {
     "base_uri": "https://localhost:8080/",
     "height": 34
    },
    "colab_type": "code",
    "id": "t2GZPCYeKeKV",
    "outputId": "80b54b28-9334-4ab7-ac5f-439d35568e2a"
   },
   "outputs": [
    {
     "data": {
      "text/plain": [
       "32513"
      ]
     },
     "execution_count": 6,
     "metadata": {
      "tags": []
     },
     "output_type": "execute_result"
    }
   ],
   "source": [
    "len(data)"
   ]
  },
  {
   "cell_type": "code",
   "execution_count": 0,
   "metadata": {
    "colab": {},
    "colab_type": "code",
    "id": "iz6p2qSaK8kJ"
   },
   "outputs": [],
   "source": [
    "data_labels=pd.read_csv('/content/drive/My Drive/Text_classification/author_identification_challenge /ytrain.txt', header=None, names=['class'])"
   ]
  },
  {
   "cell_type": "code",
   "execution_count": 0,
   "metadata": {
    "colab": {
     "base_uri": "https://localhost:8080/",
     "height": 34
    },
    "colab_type": "code",
    "id": "wK1-jLc0L4p2",
    "outputId": "a00a86e9-4f9c-4f7c-d16b-98b3c6aa391d"
   },
   "outputs": [
    {
     "data": {
      "text/plain": [
       "Index(['class'], dtype='object')"
      ]
     },
     "execution_count": 8,
     "metadata": {
      "tags": []
     },
     "output_type": "execute_result"
    }
   ],
   "source": [
    "data_labels.columns"
   ]
  },
  {
   "cell_type": "code",
   "execution_count": 0,
   "metadata": {
    "colab": {},
    "colab_type": "code",
    "id": "aCA6Kj2cRFfG"
   },
   "outputs": [],
   "source": [
    "#splitting the dataset into training and test validation set\n",
    "from sklearn import model_selection\n",
    "X_train, X_valid, y_train, y_valid = model_selection.train_test_split(data['Text'], data_labels['class'], \n",
    "                                                                      random_state=2, stratify=data_labels['class'])"
   ]
  },
  {
   "cell_type": "markdown",
   "metadata": {
    "colab_type": "text",
    "id": "STRRR_BaAAfG"
   },
   "source": [
    "**Using TF-IDF vectors on character level using Trigram and bigram**\n"
   ]
  },
  {
   "cell_type": "code",
   "execution_count": 0,
   "metadata": {
    "colab": {},
    "colab_type": "code",
    "id": "VEtea0k8MIuC"
   },
   "outputs": [],
   "source": [
    "from sklearn.feature_extraction.text import  CountVectorizer,TfidfVectorizer\n",
    "\n",
    "#tried using the countvectorizer method accuracy seems to be poor as it tend to ignore the sequence of the letters\n",
    "#Since it is obfuscated data creating the features based on each character using ngram techniques\n",
    "#count_vect = CountVectorizer(analyzer='char', token_pattern=r'\\w{1,}')\n",
    "\n",
    "#xtrain_count =  count_vect.fit_transform(X_train)\n",
    "#xvalid_count = count_vect.transform(X_valid)\n",
    "tfidf_vect_ngram_chars = TfidfVectorizer(analyzer='char', token_pattern=r'\\w{1,}', ngram_range=(2,3), max_features=5000)\n",
    "xtrain_count =  tfidf_vect_ngram_chars.fit_transform(X_train)\n",
    "xvalid_count = tfidf_vect_ngram_chars.transform(X_valid)"
   ]
  },
  {
   "cell_type": "code",
   "execution_count": 0,
   "metadata": {
    "colab": {},
    "colab_type": "code",
    "id": "y3INqY_VMXD2"
   },
   "outputs": [],
   "source": [
    "#one hot encoding of the class labels\n",
    "from sklearn.preprocessing import LabelBinarizer\n",
    "encoder = LabelBinarizer()\n",
    "encoder.fit(data_labels['class'])\n",
    "ytrain_count = encoder.transform(y_train)\n",
    "yvalid_count = encoder.transform(y_valid)"
   ]
  },
  {
   "cell_type": "code",
   "execution_count": 0,
   "metadata": {
    "colab": {
     "base_uri": "https://localhost:8080/",
     "height": 34
    },
    "colab_type": "code",
    "id": "sZ5P6D27W_MB",
    "outputId": "9600d0cb-7e87-4b10-9d2c-f0be7a1271f4"
   },
   "outputs": [
    {
     "data": {
      "text/plain": [
       "3277"
      ]
     },
     "execution_count": 129,
     "metadata": {
      "tags": []
     },
     "output_type": "execute_result"
    }
   ],
   "source": [
    "num_labels = 12 #number of class labels\n",
    "batch_size = 128\n",
    "xtrain_count.shape[1]"
   ]
  },
  {
   "cell_type": "code",
   "execution_count": 0,
   "metadata": {
    "colab": {},
    "colab_type": "code",
    "id": "wV2vtAeRW8qX"
   },
   "outputs": [],
   "source": [
    "model = Sequential()\n",
    "model.add(Dense(1024, input_shape=(xtrain_count.shape[1],)))#choosing the number of neurons as 2/3* input shape\n",
    "model.add(Activation('relu'))\n",
    "model.add(Dropout(0.5))# drop out layers to avoid overfitting\n",
    "model.add(Dense(1024))\n",
    "model.add(Activation('relu'))\n",
    "model.add(Dropout(0.5))\n",
    "model.add(Dense(1024))\n",
    "model.add(Activation('relu'))\n",
    "model.add(Dropout(0.5))\n",
    "model.add(Dense(num_labels))#number of neurons equivalent to output\n",
    "model.add(Activation('softmax'))#multi class text classification\n"
   ]
  },
  {
   "cell_type": "code",
   "execution_count": 0,
   "metadata": {
    "colab": {
     "base_uri": "https://localhost:8080/",
     "height": 504
    },
    "colab_type": "code",
    "id": "cKVgU3LoXISJ",
    "outputId": "2f435f7a-8837-49e0-9f73-90a85bd38de7"
   },
   "outputs": [
    {
     "name": "stdout",
     "output_type": "stream",
     "text": [
      "_________________________________________________________________\n",
      "Layer (type)                 Output Shape              Param #   \n",
      "=================================================================\n",
      "dense_41 (Dense)             (None, 1024)              3356672   \n",
      "_________________________________________________________________\n",
      "activation_41 (Activation)   (None, 1024)              0         \n",
      "_________________________________________________________________\n",
      "dropout_31 (Dropout)         (None, 1024)              0         \n",
      "_________________________________________________________________\n",
      "dense_42 (Dense)             (None, 1024)              1049600   \n",
      "_________________________________________________________________\n",
      "activation_42 (Activation)   (None, 1024)              0         \n",
      "_________________________________________________________________\n",
      "dropout_32 (Dropout)         (None, 1024)              0         \n",
      "_________________________________________________________________\n",
      "dense_43 (Dense)             (None, 1024)              1049600   \n",
      "_________________________________________________________________\n",
      "activation_43 (Activation)   (None, 1024)              0         \n",
      "_________________________________________________________________\n",
      "dropout_33 (Dropout)         (None, 1024)              0         \n",
      "_________________________________________________________________\n",
      "dense_44 (Dense)             (None, 12)                12300     \n",
      "_________________________________________________________________\n",
      "activation_44 (Activation)   (None, 12)                0         \n",
      "=================================================================\n",
      "Total params: 5,468,172\n",
      "Trainable params: 5,468,172\n",
      "Non-trainable params: 0\n",
      "_________________________________________________________________\n"
     ]
    }
   ],
   "source": [
    "model.summary()"
   ]
  },
  {
   "cell_type": "code",
   "execution_count": 0,
   "metadata": {
    "colab": {},
    "colab_type": "code",
    "id": "RofGvzZbXcYe"
   },
   "outputs": [],
   "source": [
    "model.compile(loss='categorical_crossentropy',\n",
    "              optimizer='adam',\n",
    "              metrics=['accuracy'])"
   ]
  },
  {
   "cell_type": "code",
   "execution_count": 0,
   "metadata": {
    "colab": {},
    "colab_type": "code",
    "id": "bEIyWsheIPwl"
   },
   "outputs": [],
   "source": [
    "from keras.callbacks import ModelCheckpoint\n",
    "checkpoint = ModelCheckpoint('nn_weights.hdf5', monitor='val_acc', verbose=1, save_best_only=True, mode='auto')"
   ]
  },
  {
   "cell_type": "code",
   "execution_count": 0,
   "metadata": {
    "colab": {
     "base_uri": "https://localhost:8080/",
     "height": 3394
    },
    "colab_type": "code",
    "id": "LDrAVKVoXP9-",
    "outputId": "26313574-535b-4e9d-a159-6754e2768215"
   },
   "outputs": [
    {
     "name": "stdout",
     "output_type": "stream",
     "text": [
      "Train on 21945 samples, validate on 2439 samples\n",
      "Epoch 1/50\n",
      "21945/21945 [==============================] - 5s 221us/step - loss: 1.6430 - acc: 0.4410 - val_loss: 1.0847 - val_acc: 0.6212\n",
      "\n",
      "Epoch 00001: val_acc improved from -inf to 0.62116, saving model to nn_weights.hdf5\n",
      "Epoch 2/50\n",
      "21945/21945 [==============================] - 3s 139us/step - loss: 1.0111 - acc: 0.6602 - val_loss: 0.8282 - val_acc: 0.7241\n",
      "\n",
      "Epoch 00002: val_acc improved from 0.62116 to 0.72407, saving model to nn_weights.hdf5\n",
      "Epoch 3/50\n",
      "21945/21945 [==============================] - 3s 135us/step - loss: 0.8260 - acc: 0.7283 - val_loss: 0.7777 - val_acc: 0.7396\n",
      "\n",
      "Epoch 00003: val_acc improved from 0.72407 to 0.73965, saving model to nn_weights.hdf5\n",
      "Epoch 4/50\n",
      "21945/21945 [==============================] - 3s 136us/step - loss: 0.7283 - acc: 0.7574 - val_loss: 0.7069 - val_acc: 0.7618\n",
      "\n",
      "Epoch 00004: val_acc improved from 0.73965 to 0.76179, saving model to nn_weights.hdf5\n",
      "Epoch 5/50\n",
      "21945/21945 [==============================] - 3s 136us/step - loss: 0.6740 - acc: 0.7747 - val_loss: 0.6848 - val_acc: 0.7634\n",
      "\n",
      "Epoch 00005: val_acc improved from 0.76179 to 0.76343, saving model to nn_weights.hdf5\n",
      "Epoch 6/50\n",
      "21945/21945 [==============================] - 3s 132us/step - loss: 0.6108 - acc: 0.7951 - val_loss: 0.6730 - val_acc: 0.7741\n",
      "\n",
      "Epoch 00006: val_acc improved from 0.76343 to 0.77409, saving model to nn_weights.hdf5\n",
      "Epoch 7/50\n",
      "21945/21945 [==============================] - 3s 132us/step - loss: 0.5579 - acc: 0.8157 - val_loss: 0.6750 - val_acc: 0.7696\n",
      "\n",
      "Epoch 00007: val_acc did not improve from 0.77409\n",
      "Epoch 8/50\n",
      "21945/21945 [==============================] - 3s 128us/step - loss: 0.5364 - acc: 0.8204 - val_loss: 0.6885 - val_acc: 0.7696\n",
      "\n",
      "Epoch 00008: val_acc did not improve from 0.77409\n",
      "Epoch 9/50\n",
      "21945/21945 [==============================] - 3s 129us/step - loss: 0.4955 - acc: 0.8356 - val_loss: 0.6853 - val_acc: 0.7745\n",
      "\n",
      "Epoch 00009: val_acc improved from 0.77409 to 0.77450, saving model to nn_weights.hdf5\n",
      "Epoch 10/50\n",
      "21945/21945 [==============================] - 3s 131us/step - loss: 0.4585 - acc: 0.8447 - val_loss: 0.6855 - val_acc: 0.7753\n",
      "\n",
      "Epoch 00010: val_acc improved from 0.77450 to 0.77532, saving model to nn_weights.hdf5\n",
      "Epoch 11/50\n",
      "21945/21945 [==============================] - 3s 131us/step - loss: 0.4290 - acc: 0.8551 - val_loss: 0.7074 - val_acc: 0.7724\n",
      "\n",
      "Epoch 00011: val_acc did not improve from 0.77532\n",
      "Epoch 12/50\n",
      "21945/21945 [==============================] - 3s 130us/step - loss: 0.3894 - acc: 0.8700 - val_loss: 0.7162 - val_acc: 0.7757\n",
      "\n",
      "Epoch 00012: val_acc improved from 0.77532 to 0.77573, saving model to nn_weights.hdf5\n",
      "Epoch 13/50\n",
      "21945/21945 [==============================] - 3s 130us/step - loss: 0.3715 - acc: 0.8746 - val_loss: 0.7203 - val_acc: 0.7790\n",
      "\n",
      "Epoch 00013: val_acc improved from 0.77573 to 0.77901, saving model to nn_weights.hdf5\n",
      "Epoch 14/50\n",
      "21945/21945 [==============================] - 3s 130us/step - loss: 0.3522 - acc: 0.8812 - val_loss: 0.7541 - val_acc: 0.7642\n",
      "\n",
      "Epoch 00014: val_acc did not improve from 0.77901\n",
      "Epoch 15/50\n",
      "21945/21945 [==============================] - 3s 131us/step - loss: 0.3334 - acc: 0.8867 - val_loss: 0.7146 - val_acc: 0.7741\n",
      "\n",
      "Epoch 00015: val_acc did not improve from 0.77901\n",
      "Epoch 16/50\n",
      "21945/21945 [==============================] - 3s 129us/step - loss: 0.3120 - acc: 0.8960 - val_loss: 0.7650 - val_acc: 0.7749\n",
      "\n",
      "Epoch 00016: val_acc did not improve from 0.77901\n",
      "Epoch 17/50\n",
      "21945/21945 [==============================] - 3s 129us/step - loss: 0.2857 - acc: 0.9044 - val_loss: 0.7680 - val_acc: 0.7770\n",
      "\n",
      "Epoch 00017: val_acc did not improve from 0.77901\n",
      "Epoch 18/50\n",
      "21945/21945 [==============================] - 3s 130us/step - loss: 0.2663 - acc: 0.9089 - val_loss: 0.7915 - val_acc: 0.7847\n",
      "\n",
      "Epoch 00018: val_acc improved from 0.77901 to 0.78475, saving model to nn_weights.hdf5\n",
      "Epoch 19/50\n",
      "21945/21945 [==============================] - 3s 130us/step - loss: 0.2575 - acc: 0.9131 - val_loss: 0.7862 - val_acc: 0.7765\n",
      "\n",
      "Epoch 00019: val_acc did not improve from 0.78475\n",
      "Epoch 20/50\n",
      "21945/21945 [==============================] - 3s 129us/step - loss: 0.2340 - acc: 0.9221 - val_loss: 0.8017 - val_acc: 0.7815\n",
      "\n",
      "Epoch 00020: val_acc did not improve from 0.78475\n",
      "Epoch 21/50\n",
      "21945/21945 [==============================] - 3s 130us/step - loss: 0.2267 - acc: 0.9232 - val_loss: 0.8036 - val_acc: 0.7774\n",
      "\n",
      "Epoch 00021: val_acc did not improve from 0.78475\n",
      "Epoch 22/50\n",
      "21945/21945 [==============================] - 3s 130us/step - loss: 0.2174 - acc: 0.9258 - val_loss: 0.8450 - val_acc: 0.7733\n",
      "\n",
      "Epoch 00022: val_acc did not improve from 0.78475\n",
      "Epoch 23/50\n",
      "21945/21945 [==============================] - 3s 130us/step - loss: 0.2127 - acc: 0.9272 - val_loss: 0.8553 - val_acc: 0.7753\n",
      "\n",
      "Epoch 00023: val_acc did not improve from 0.78475\n",
      "Epoch 24/50\n",
      "21945/21945 [==============================] - 3s 130us/step - loss: 0.2009 - acc: 0.9314 - val_loss: 0.8750 - val_acc: 0.7770\n",
      "\n",
      "Epoch 00024: val_acc did not improve from 0.78475\n",
      "Epoch 25/50\n",
      "21945/21945 [==============================] - 3s 129us/step - loss: 0.1959 - acc: 0.9338 - val_loss: 0.8360 - val_acc: 0.7778\n",
      "\n",
      "Epoch 00025: val_acc did not improve from 0.78475\n",
      "Epoch 26/50\n",
      "21945/21945 [==============================] - 3s 131us/step - loss: 0.1847 - acc: 0.9365 - val_loss: 0.8806 - val_acc: 0.7741\n",
      "\n",
      "Epoch 00026: val_acc did not improve from 0.78475\n",
      "Epoch 27/50\n",
      "21945/21945 [==============================] - 3s 130us/step - loss: 0.1859 - acc: 0.9372 - val_loss: 0.8633 - val_acc: 0.7794\n",
      "\n",
      "Epoch 00027: val_acc did not improve from 0.78475\n",
      "Epoch 28/50\n",
      "21945/21945 [==============================] - 3s 129us/step - loss: 0.1705 - acc: 0.9413 - val_loss: 0.8978 - val_acc: 0.7716\n",
      "\n",
      "Epoch 00028: val_acc did not improve from 0.78475\n",
      "Epoch 29/50\n",
      "21945/21945 [==============================] - 3s 130us/step - loss: 0.1534 - acc: 0.9470 - val_loss: 0.9275 - val_acc: 0.7745\n",
      "\n",
      "Epoch 00029: val_acc did not improve from 0.78475\n",
      "Epoch 30/50\n",
      "21945/21945 [==============================] - 3s 130us/step - loss: 0.1598 - acc: 0.9459 - val_loss: 0.9501 - val_acc: 0.7667\n",
      "\n",
      "Epoch 00030: val_acc did not improve from 0.78475\n",
      "Epoch 31/50\n",
      "21945/21945 [==============================] - 3s 129us/step - loss: 0.1588 - acc: 0.9467 - val_loss: 0.9622 - val_acc: 0.7647\n",
      "\n",
      "Epoch 00031: val_acc did not improve from 0.78475\n",
      "Epoch 32/50\n",
      "21945/21945 [==============================] - 3s 129us/step - loss: 0.1474 - acc: 0.9496 - val_loss: 0.9503 - val_acc: 0.7729\n",
      "\n",
      "Epoch 00032: val_acc did not improve from 0.78475\n",
      "Epoch 33/50\n",
      "21945/21945 [==============================] - 3s 130us/step - loss: 0.1418 - acc: 0.9525 - val_loss: 0.9107 - val_acc: 0.7704\n",
      "\n",
      "Epoch 00033: val_acc did not improve from 0.78475\n",
      "Epoch 34/50\n",
      "21945/21945 [==============================] - 3s 129us/step - loss: 0.1363 - acc: 0.9524 - val_loss: 0.9542 - val_acc: 0.7802\n",
      "\n",
      "Epoch 00034: val_acc did not improve from 0.78475\n",
      "Epoch 35/50\n",
      "21945/21945 [==============================] - 3s 129us/step - loss: 0.1407 - acc: 0.9528 - val_loss: 0.9720 - val_acc: 0.7720\n",
      "\n",
      "Epoch 00035: val_acc did not improve from 0.78475\n",
      "Epoch 36/50\n",
      "21945/21945 [==============================] - 3s 131us/step - loss: 0.1360 - acc: 0.9549 - val_loss: 0.9578 - val_acc: 0.7761\n",
      "\n",
      "Epoch 00036: val_acc did not improve from 0.78475\n",
      "Epoch 37/50\n",
      "21945/21945 [==============================] - 3s 130us/step - loss: 0.1231 - acc: 0.9592 - val_loss: 0.9658 - val_acc: 0.7729\n",
      "\n",
      "Epoch 00037: val_acc did not improve from 0.78475\n",
      "Epoch 38/50\n",
      "21945/21945 [==============================] - 3s 130us/step - loss: 0.1239 - acc: 0.9576 - val_loss: 0.9645 - val_acc: 0.7749\n",
      "\n",
      "Epoch 00038: val_acc did not improve from 0.78475\n",
      "Epoch 39/50\n",
      "21945/21945 [==============================] - 3s 129us/step - loss: 0.1349 - acc: 0.9564 - val_loss: 0.9530 - val_acc: 0.7696\n",
      "\n",
      "Epoch 00039: val_acc did not improve from 0.78475\n",
      "Epoch 40/50\n",
      "21945/21945 [==============================] - 3s 129us/step - loss: 0.1180 - acc: 0.9617 - val_loss: 0.9482 - val_acc: 0.7770\n",
      "\n",
      "Epoch 00040: val_acc did not improve from 0.78475\n",
      "Epoch 41/50\n",
      "21945/21945 [==============================] - 3s 131us/step - loss: 0.1187 - acc: 0.9607 - val_loss: 0.9897 - val_acc: 0.7786\n",
      "\n",
      "Epoch 00041: val_acc did not improve from 0.78475\n",
      "Epoch 42/50\n",
      "21945/21945 [==============================] - 3s 128us/step - loss: 0.1141 - acc: 0.9605 - val_loss: 1.0450 - val_acc: 0.7671\n",
      "\n",
      "Epoch 00042: val_acc did not improve from 0.78475\n",
      "Epoch 43/50\n",
      "21945/21945 [==============================] - 3s 129us/step - loss: 0.1153 - acc: 0.9623 - val_loss: 1.0228 - val_acc: 0.7770\n",
      "\n",
      "Epoch 00043: val_acc did not improve from 0.78475\n",
      "Epoch 44/50\n",
      "21945/21945 [==============================] - 3s 129us/step - loss: 0.1139 - acc: 0.9611 - val_loss: 0.9811 - val_acc: 0.7749\n",
      "\n",
      "Epoch 00044: val_acc did not improve from 0.78475\n",
      "Epoch 45/50\n",
      "21945/21945 [==============================] - 3s 129us/step - loss: 0.1025 - acc: 0.9639 - val_loss: 1.0135 - val_acc: 0.7761\n",
      "\n",
      "Epoch 00045: val_acc did not improve from 0.78475\n",
      "Epoch 46/50\n",
      "21945/21945 [==============================] - 3s 130us/step - loss: 0.1148 - acc: 0.9613 - val_loss: 0.9698 - val_acc: 0.7770\n",
      "\n",
      "Epoch 00046: val_acc did not improve from 0.78475\n",
      "Epoch 47/50\n",
      "21945/21945 [==============================] - 3s 129us/step - loss: 0.1035 - acc: 0.9645 - val_loss: 1.0225 - val_acc: 0.7712\n",
      "\n",
      "Epoch 00047: val_acc did not improve from 0.78475\n",
      "Epoch 48/50\n",
      "21945/21945 [==============================] - 3s 130us/step - loss: 0.1094 - acc: 0.9640 - val_loss: 0.9844 - val_acc: 0.7745\n",
      "\n",
      "Epoch 00048: val_acc did not improve from 0.78475\n",
      "Epoch 49/50\n",
      "21945/21945 [==============================] - 3s 129us/step - loss: 0.1000 - acc: 0.9667 - val_loss: 1.0209 - val_acc: 0.7729\n",
      "\n",
      "Epoch 00049: val_acc did not improve from 0.78475\n",
      "Epoch 50/50\n",
      "21945/21945 [==============================] - 3s 129us/step - loss: 0.1085 - acc: 0.9641 - val_loss: 0.9941 - val_acc: 0.7815\n",
      "\n",
      "Epoch 00050: val_acc did not improve from 0.78475\n"
     ]
    }
   ],
   "source": [
    "history = model.fit(xtrain_count, ytrain_count,\n",
    "                    batch_size=batch_size,\n",
    "                    epochs=50,callbacks=[checkpoint],\n",
    "                    verbose=1,\n",
    "                    validation_split=0.1)"
   ]
  },
  {
   "cell_type": "code",
   "execution_count": 0,
   "metadata": {
    "colab": {
     "base_uri": "https://localhost:8080/",
     "height": 50
    },
    "colab_type": "code",
    "id": "fzhiOZ_4w9eN",
    "outputId": "b2b2db72-2a1e-4ca5-b78c-724509e74e8e"
   },
   "outputs": [
    {
     "name": "stdout",
     "output_type": "stream",
     "text": [
      "8129/8129 [==============================] - 0s 51us/step\n",
      "Test accuracy: 0.7692213065364085\n"
     ]
    }
   ],
   "source": [
    "score = model.evaluate(xvalid_count, yvalid_count,\n",
    "                       batch_size=batch_size, verbose=1)\n",
    "\n",
    "print('Test accuracy:', score[1])\n"
   ]
  },
  {
   "cell_type": "code",
   "execution_count": 0,
   "metadata": {
    "colab": {},
    "colab_type": "code",
    "id": "TP9bYIsG7ZWC"
   },
   "outputs": [],
   "source": [
    "predictions = model.predict(xvalid_count)\n",
    "pred = predictions.argmax(axis=-1)"
   ]
  },
  {
   "cell_type": "code",
   "execution_count": 0,
   "metadata": {
    "colab": {
     "base_uri": "https://localhost:8080/",
     "height": 252
    },
    "colab_type": "code",
    "id": "IMxxICL7CYsI",
    "outputId": "967d78ce-76b0-442e-9190-f553bd9b44b0"
   },
   "outputs": [
    {
     "name": "stdout",
     "output_type": "stream",
     "text": [
      "True        0    1    2    3    4    5    6     7    8    9    10   11\n",
      "Predicted                                                             \n",
      "0          117    0    1    2    1    0    0     3    0    0    0    0\n",
      "1            1  661    9   48    2    1   60    19   22    8   17   15\n",
      "2            2    9  261   14    4    5   15    11    2   20   19   22\n",
      "3            4   79   25  785   13    9   20    78   17   18  107   20\n",
      "4            0    0    1    3  439    6    3     2   15    2    2    1\n",
      "5            2    2    1    9   15  531    1     9    8    1    4    7\n",
      "6            0   48   17   18    6    2  808    39   24    9   43   20\n",
      "7            6   22   10   33   24    4   50  1023    9    9   43   18\n",
      "8            1    8    3    9   50    6   25    16  769    0   17    8\n",
      "9            0    4    2    7    0    0    3     1    0  148    0    2\n",
      "10           2   21   25   69   29    2   48    45   36   25  488   16\n",
      "11           1   11   13    9    1    5   24    28    6    5   23  223\n"
     ]
    }
   ],
   "source": [
    "from sklearn.metrics import classification_report, confusion_matrix, accuracy_score\n",
    "import pandas as pd\n",
    "cm = confusion_matrix(y_valid, pred)\n",
    "cm_df = pd.DataFrame(cm.T, index=encoder.classes_, columns=encoder.classes_)\n",
    "cm_df.index.name = 'Predicted'\n",
    "cm_df.columns.name = 'True'\n",
    "print(cm_df)"
   ]
  },
  {
   "cell_type": "code",
   "execution_count": 0,
   "metadata": {
    "colab": {
     "base_uri": "https://localhost:8080/",
     "height": 336
    },
    "colab_type": "code",
    "id": "Utran3Fn_buc",
    "outputId": "67bf16dc-bd70-4cdc-efd7-aec692a9b69e"
   },
   "outputs": [
    {
     "name": "stdout",
     "output_type": "stream",
     "text": [
      "              precision    recall  f1-score   support\n",
      "\n",
      "           0       0.92      0.78      0.84       136\n",
      "           1       0.82      0.71      0.76       865\n",
      "           2       0.72      0.71      0.72       368\n",
      "           3       0.71      0.76      0.74      1006\n",
      "           4       0.85      0.78      0.82       584\n",
      "           5       0.91      0.92      0.91       571\n",
      "           6       0.71      0.81      0.76      1057\n",
      "           7       0.80      0.80      0.80      1274\n",
      "           8       0.81      0.86      0.83       908\n",
      "           9       0.77      0.71      0.74       245\n",
      "          10       0.64      0.61      0.63       763\n",
      "          11       0.66      0.60      0.63       352\n",
      "\n",
      "   micro avg       0.77      0.77      0.77      8129\n",
      "   macro avg       0.78      0.75      0.76      8129\n",
      "weighted avg       0.77      0.77      0.77      8129\n",
      "\n"
     ]
    }
   ],
   "source": [
    "print(classification_report(y_valid,pred)) "
   ]
  },
  {
   "cell_type": "code",
   "execution_count": 0,
   "metadata": {
    "colab": {},
    "colab_type": "code",
    "id": "ttsWeli_C_K8"
   },
   "outputs": [],
   "source": [
    "X_test = pd.read_csv('/content/drive/My Drive/Text_classification/author_identification_challenge /xtest_obfuscated.txt', names = ['Text'])"
   ]
  },
  {
   "cell_type": "code",
   "execution_count": 0,
   "metadata": {
    "colab": {},
    "colab_type": "code",
    "id": "EeZ3zJk_DbJU"
   },
   "outputs": [],
   "source": [
    "\n",
    "xtest_count =  tfidf_vect_ngram_chars.transform(X_test['Text'])"
   ]
  },
  {
   "cell_type": "code",
   "execution_count": 0,
   "metadata": {
    "colab": {
     "base_uri": "https://localhost:8080/",
     "height": 34
    },
    "colab_type": "code",
    "id": "JhxkabloDbU6",
    "outputId": "a9ec5f41-d580-4a13-d11e-37cef06e37da"
   },
   "outputs": [
    {
     "data": {
      "text/plain": [
       "(3000, 3277)"
      ]
     },
     "execution_count": 108,
     "metadata": {
      "tags": []
     },
     "output_type": "execute_result"
    }
   ],
   "source": [
    "xtest_count.shape"
   ]
  },
  {
   "cell_type": "code",
   "execution_count": 0,
   "metadata": {
    "colab": {},
    "colab_type": "code",
    "id": "uD1fnbveDbho"
   },
   "outputs": [],
   "source": [
    "pred_test = model.predict(xtest_count)\n",
    "pred_label = pred_test.argmax(axis=-1)"
   ]
  },
  {
   "cell_type": "code",
   "execution_count": 0,
   "metadata": {
    "colab": {},
    "colab_type": "code",
    "id": "KXjlbRsmE6ih"
   },
   "outputs": [],
   "source": [
    "X_test['label'] = pred_label"
   ]
  },
  {
   "cell_type": "code",
   "execution_count": 0,
   "metadata": {
    "colab": {},
    "colab_type": "code",
    "id": "n333kREIFBsr"
   },
   "outputs": [],
   "source": [
    "X_test.to_csv('/content/drive/My Drive/Text_classification/author_identification_challenge /output.csv', sep='\\t', encoding='utf-8')"
   ]
  },
  {
   "cell_type": "code",
   "execution_count": 0,
   "metadata": {
    "colab": {},
    "colab_type": "code",
    "id": "qIYal00vvjju"
   },
   "outputs": [],
   "source": []
  }
 ],
 "metadata": {
  "accelerator": "GPU",
  "colab": {
   "collapsed_sections": [],
   "name": "taiger_neural_network.ipynb",
   "provenance": [],
   "version": "0.3.2"
  },
  "kernelspec": {
   "display_name": "Python 3",
   "language": "python",
   "name": "python3"
  },
  "language_info": {
   "codemirror_mode": {
    "name": "ipython",
    "version": 3
   },
   "file_extension": ".py",
   "mimetype": "text/x-python",
   "name": "python",
   "nbconvert_exporter": "python",
   "pygments_lexer": "ipython3",
   "version": "3.6.5"
  }
 },
 "nbformat": 4,
 "nbformat_minor": 1
}
